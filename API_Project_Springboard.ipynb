{
 "cells": [
  {
   "cell_type": "markdown",
   "metadata": {},
   "source": [
    "## API Mini Project"
   ]
  },
  {
   "cell_type": "markdown",
   "metadata": {},
   "source": [
    "#### This exercise will require you to pull some data from the Quandl API. Qaundl is currently the most widely used aggregator of financial market data.\n",
    "As a first step, you will need to register a free account on the http://www.quandl.com website.\n",
    "After you register, you will be provided with a unique API key, that you should store:\n"
   ]
  },
  {
   "cell_type": "markdown",
   "metadata": {},
   "source": [
    "After you register, you will be provided with a unique API key, that you should store:"
   ]
  },
  {
   "cell_type": "markdown",
   "metadata": {},
   "source": [
    "Qaundl has a large number of data sources, but, unfortunately, most of them require a Premium subscription. Still, there are also a good number of free datasets.\n",
    "For this mini project, we will focus on equities data from the Frankfurt Stock Exhange (FSE), which is available for free. We'll try and analyze the stock prices of a company called Carl Zeiss Meditec, which manufactures tools for eye examinations, as well as medical lasers for laser eye surgery: https://www.zeiss.com/meditec/int/home.html. The company is listed under the stock ticker AFX_X.\n",
    "You can find the detailed Quandl API instructions here: https://docs.quandl.com/docs/time-series\n",
    "While there is a dedicated Python package for connecting to the Quandl API, we would prefer that you use the requests package, which can be easily downloaded using pip or conda. You can find the documentation for the package here: http://docs.python-requests.org/en/master/\n",
    "Finally, apart from the requests package, you are encouraged to not use any third party Python packages, such as pandas, and instead focus on what's available in the Python Standard Library (the collections module might come in handy: https://pymotw.com/3/collections/ ). Also, since you won't have access to DataFrames, you are encouraged to us Python's native data structures - preferably dictionaries, though some questions can also be answered using lists. You can read more on these data structures here: https://docs.python.org/3/tutorial/datastructures.html\n",
    "Keep in mind that the JSON responses you will be getting from the API map almost one-to-one to Python's dictionaries. Unfortunately, they can be very nested, so make sure you read up on indexing dictionaries in the documentation provided above."
   ]
  },
  {
   "cell_type": "code",
   "execution_count": 230,
   "metadata": {},
   "outputs": [],
   "source": [
    "# First, import the relevant modules\n",
    "\n",
    "import numpy as np\n",
    "import pandas as pd\n",
    "import json\n",
    "\n",
    "import requests"
   ]
  },
  {
   "cell_type": "code",
   "execution_count": 215,
   "metadata": {},
   "outputs": [],
   "source": [
    "# Now, call the Quandl API and pull out a small sample of the data (only one day) to get a glimpse\n",
    "# into the JSON structure that will be returned\n",
    "\n",
    "url = (\"https://www.quandl.com/api/v3/datasets/WIKI/FB/data.json?\") + API Key\n",
    "ds = requests.get(url)"
   ]
  },
  {
   "cell_type": "code",
   "execution_count": 216,
   "metadata": {},
   "outputs": [
    {
     "name": "stdout",
     "output_type": "stream",
     "text": [
      "<class 'dict'>\n"
     ]
    }
   ],
   "source": [
    "# Inspect the JSON structure of the object you created, and take note of how nested it is,\n",
    "# as well as the overall structure\n",
    "print(type(ds.json()))"
   ]
  },
  {
   "cell_type": "code",
   "execution_count": null,
   "metadata": {},
   "outputs": [],
   "source": [
    "ds.json()"
   ]
  },
  {
   "cell_type": "markdown",
   "metadata": {},
   "source": [
    "### Task 1:\n",
    "Collect data from the Franfurt Stock Exchange, for the ticker AFX_X, for the whole year 2017 (keep in mind that the date format is YYYY-MM-DD)."
   ]
  },
  {
   "cell_type": "code",
   "execution_count": 76,
   "metadata": {},
   "outputs": [],
   "source": [
    "ds = requests.get(\"https://www.quandl.com/api/v3/datasets/FSE/AFX_X/data.json?& start_date=2017-01-01&end_date=2017-12-31&api_key=\") + API Key"
   ]
  },
  {
   "cell_type": "markdown",
   "metadata": {},
   "source": [
    "### Task 2:\n",
    "Convert the returned JSON object into a Python dictionary."
   ]
  },
  {
   "cell_type": "code",
   "execution_count": 91,
   "metadata": {},
   "outputs": [],
   "source": [
    "j= ds.json()\n",
    "\n",
    "# Creating a pandas DataFrame to check my answers\n",
    "# json_data_cols = json_data[\"dataset_data\"][\"column_names\"]\n",
    "# json_data_rows = json_data[\"dataset_data\"][\"data\"]\n",
    "# df = pd.DataFrame(json_data_rows, columns=json_data_cols)\n",
    "# df.head()"
   ]
  },
  {
   "cell_type": "code",
   "execution_count": null,
   "metadata": {},
   "outputs": [],
   "source": [
    "json_data"
   ]
  },
  {
   "cell_type": "code",
   "execution_count": 129,
   "metadata": {},
   "outputs": [
    {
     "data": {
      "text/html": [
       "<div>\n",
       "<style scoped>\n",
       "    .dataframe tbody tr th:only-of-type {\n",
       "        vertical-align: middle;\n",
       "    }\n",
       "\n",
       "    .dataframe tbody tr th {\n",
       "        vertical-align: top;\n",
       "    }\n",
       "\n",
       "    .dataframe thead th {\n",
       "        text-align: right;\n",
       "    }\n",
       "</style>\n",
       "<table border=\"1\" class=\"dataframe\">\n",
       "  <thead>\n",
       "    <tr style=\"text-align: right;\">\n",
       "      <th></th>\n",
       "      <th>Date</th>\n",
       "      <th>Open</th>\n",
       "      <th>High</th>\n",
       "      <th>Low</th>\n",
       "      <th>Close</th>\n",
       "      <th>Change</th>\n",
       "      <th>Traded Volume</th>\n",
       "      <th>Turnover</th>\n",
       "      <th>Last Price of the Day</th>\n",
       "      <th>Daily Traded Units</th>\n",
       "      <th>Daily Turnover</th>\n",
       "    </tr>\n",
       "  </thead>\n",
       "  <tbody>\n",
       "    <tr>\n",
       "      <th>0</th>\n",
       "      <td>2017-12-29</td>\n",
       "      <td>51.76</td>\n",
       "      <td>51.94</td>\n",
       "      <td>51.45</td>\n",
       "      <td>51.76</td>\n",
       "      <td>NaN</td>\n",
       "      <td>34640.0</td>\n",
       "      <td>1792304.0</td>\n",
       "      <td>None</td>\n",
       "      <td>None</td>\n",
       "      <td>NaN</td>\n",
       "    </tr>\n",
       "    <tr>\n",
       "      <th>1</th>\n",
       "      <td>2017-12-28</td>\n",
       "      <td>51.65</td>\n",
       "      <td>51.82</td>\n",
       "      <td>51.43</td>\n",
       "      <td>51.60</td>\n",
       "      <td>NaN</td>\n",
       "      <td>40660.0</td>\n",
       "      <td>2099024.0</td>\n",
       "      <td>None</td>\n",
       "      <td>None</td>\n",
       "      <td>NaN</td>\n",
       "    </tr>\n",
       "  </tbody>\n",
       "</table>\n",
       "</div>"
      ],
      "text/plain": [
       "         Date   Open   High    Low  Close  Change  Traded Volume   Turnover  \\\n",
       "0  2017-12-29  51.76  51.94  51.45  51.76     NaN        34640.0  1792304.0   \n",
       "1  2017-12-28  51.65  51.82  51.43  51.60     NaN        40660.0  2099024.0   \n",
       "\n",
       "  Last Price of the Day Daily Traded Units  Daily Turnover  \n",
       "0                  None               None             NaN  \n",
       "1                  None               None             NaN  "
      ]
     },
     "execution_count": 129,
     "metadata": {},
     "output_type": "execute_result"
    }
   ],
   "source": [
    "# Creating a pandas DataFrame to check my answers\n",
    "json_data_cols = json_data[\"dataset_data\"][\"column_names\"]\n",
    "json_data_rows = json_data[\"dataset_data\"][\"data\"]\n",
    "df = pd.DataFrame(json_data_rows, columns=json_data_cols)\n",
    "df.head(2)"
   ]
  },
  {
   "cell_type": "markdown",
   "metadata": {},
   "source": [
    "### Task 3:\n",
    "Calculate what the highest and lowest opening prices were for the stock in this period."
   ]
  },
  {
   "cell_type": "markdown",
   "metadata": {},
   "source": [
    "   **a. By using the pandas DataFrame**"
   ]
  },
  {
   "cell_type": "code",
   "execution_count": 145,
   "metadata": {},
   "outputs": [
    {
     "name": "stdout",
     "output_type": "stream",
     "text": [
      "Highest opening price and its date \n",
      "          Date   Open\n",
      "9  2017-12-14  53.11 \n",
      "\n",
      "Lowest opening price and its date \n",
      "             Date  Open\n",
      "4214  2001-09-06   4.2\n"
     ]
    }
   ],
   "source": [
    "# Using the pandas DataFrame to check my answers\n",
    "df_open_max = df[[\"Date\",\"Open\"]][df.Open == df.Open.max()]\n",
    "df_open_min = df[[\"Date\",\"Open\"]][df.Open == df.Open.min()]\n",
    "print(\"Highest opening price and its date\",\"\\n\",df_open_max[[\"Date\",\"Open\"]],\"\\n\")\n",
    "print(\"Lowest opening price and its date\",\"\\n\",df_open_min[[\"Date\",\"Open\"]])"
   ]
  },
  {
   "cell_type": "markdown",
   "metadata": {},
   "source": [
    "   **b. By using for loop solution**"
   ]
  },
  {
   "cell_type": "code",
   "execution_count": 167,
   "metadata": {},
   "outputs": [
    {
     "data": {
      "text/plain": [
       "51.65"
      ]
     },
     "execution_count": 167,
     "metadata": {},
     "output_type": "execute_result"
    }
   ],
   "source": [
    "json_data[\"dataset_data\"][\"data\"][1][1]"
   ]
  },
  {
   "cell_type": "code",
   "execution_count": 154,
   "metadata": {},
   "outputs": [
    {
     "name": "stdout",
     "output_type": "stream",
     "text": [
      "The highest opening price is 53.11 \n",
      " \n",
      " The lowest opening price is 4.2\n"
     ]
    }
   ],
   "source": [
    "# For loop solution\n",
    "open_max = float(\"-inf\")\n",
    "open_min = float(\"inf\")\n",
    " \n",
    "for a in json_data[\"dataset_data\"][\"data\"]:\n",
    "     if a[1] != None:\n",
    "        if a[1] > open_max:\n",
    "            open_max = a[1]\n",
    "        if a[1] < open_min:\n",
    "            open_min = a[1]\n",
    "print (\"The highest opening price is\", open_max,\"\\n\",\"\\n\",\"The lowest opening price is\", open_min)"
   ]
  },
  {
   "cell_type": "markdown",
   "metadata": {},
   "source": [
    "**c. By using List Comprehension**"
   ]
  },
  {
   "cell_type": "code",
   "execution_count": 157,
   "metadata": {
    "scrolled": true
   },
   "outputs": [
    {
     "name": "stdout",
     "output_type": "stream",
     "text": [
      "The highest opening price in 2017 was $53.11 per share.\n",
      "The lowest opening price in 2017 was $4.20 per share.\n"
     ]
    }
   ],
   "source": [
    "open_list = [a[1] for a in json_data[\"dataset_data\"][\"data\"] if a[1] != None]\n",
    "open_max = max(open_list)\n",
    "open_min = min(open_list)\n",
    "\n",
    "print(\"The highest opening price in 2017 was ${0:.2f} per share.\".format(round(open_max, 2)))\n",
    "print(\"The lowest opening price in 2017 was ${0:.2f} per share.\".format(round(open_min, 2)))"
   ]
  },
  {
   "cell_type": "markdown",
   "metadata": {},
   "source": [
    "**d- By using Dictionary Comprehension**"
   ]
  },
  {
   "cell_type": "code",
   "execution_count": null,
   "metadata": {},
   "outputs": [],
   "source": [
    "json_data[\"dataset_data\"][\"data\"]"
   ]
  },
  {
   "cell_type": "code",
   "execution_count": 161,
   "metadata": {},
   "outputs": [
    {
     "name": "stdout",
     "output_type": "stream",
     "text": [
      "The highest opening price in 2017 was $53.11 per share and occured on 2017-12-14.\n",
      "The lowest opening price in 2017 was $4.20 per share and oocurred on 2001-09-06.\n"
     ]
    }
   ],
   "source": [
    "open_dict = {a[0]: a[1] for a in json_data[\"dataset_data\"][\"data\"] if a[1] != None}\n",
    "open_max_date, open_max = max(open_dict.items(), key=lambda k: k[1])\n",
    "open_min_date, open_min = min(open_dict.items(), key=lambda k: k[1])\n",
    "\n",
    "print(\"The highest opening price in 2017 was ${0:.2f} per share and occured on {1}.\" \\\n",
    "      .format(round(open_max, 2), open_max_date))\n",
    "print(\"The lowest opening price in 2017 was ${0:.2f} per share and oocurred on {1}.\" \\\n",
    "      .format(round(open_min, 2), open_min_date))"
   ]
  },
  {
   "cell_type": "markdown",
   "metadata": {},
   "source": [
    "## Task 4:\n",
    "What was the largest change in any one day (based on High and Low price)?"
   ]
  },
  {
   "cell_type": "markdown",
   "metadata": {},
   "source": [
    "**a- By using loop solution:**"
   ]
  },
  {
   "cell_type": "code",
   "execution_count": null,
   "metadata": {},
   "outputs": [],
   "source": [
    "spread_max = float(\"inf\")\n",
    "b=[]\n",
    "\n",
    "for a in json_data[\"dataset_data\"][\"data\"]:\n",
    "    b = a[2] - a[3]\n",
    "    if b > spread_max:\n",
    "        spread_max = b\n",
    "print('The largest change in any one day is ', spread_max)"
   ]
  },
  {
   "cell_type": "markdown",
   "metadata": {},
   "source": [
    "**b-By using List Comprehension**"
   ]
  },
  {
   "cell_type": "code",
   "execution_count": null,
   "metadata": {},
   "outputs": [],
   "source": [
    "spread_max = max(row[2] - row[3] for row in json_data[\"dataset_data\"][\"data\"])\n",
    "            \n",
    "print(\"The largest daily price spread in 2017 was {1}${0:.2f} per share.\" \\\n",
    "      .format(round(spread_max, 2), u'\\u0394'))"
   ]
  },
  {
   "cell_type": "markdown",
   "metadata": {},
   "source": [
    "**c-By using Dictionary Comprehension**"
   ]
  },
  {
   "cell_type": "code",
   "execution_count": null,
   "metadata": {},
   "outputs": [],
   "source": [
    "spread_dict = {row[0]: row[2] - row[3] for row in json_data[\"dataset_data\"][\"data\"]}\n",
    "spread_max_date, spread_max = max(spread_dict.items(), key=lambda k: k[1])\n",
    "\n",
    "print(\"The largest daily price spread in 2017 was {1}${0:.2f} per share and occurred on {2}.\" \\\n",
    "      .format(round(spread_max, 2), u'\\u0394', spread_max_date))"
   ]
  },
  {
   "cell_type": "code",
   "execution_count": 183,
   "metadata": {},
   "outputs": [
    {
     "data": {
      "text/html": [
       "<div>\n",
       "<style scoped>\n",
       "    .dataframe tbody tr th:only-of-type {\n",
       "        vertical-align: middle;\n",
       "    }\n",
       "\n",
       "    .dataframe tbody tr th {\n",
       "        vertical-align: top;\n",
       "    }\n",
       "\n",
       "    .dataframe thead th {\n",
       "        text-align: right;\n",
       "    }\n",
       "</style>\n",
       "<table border=\"1\" class=\"dataframe\">\n",
       "  <thead>\n",
       "    <tr style=\"text-align: right;\">\n",
       "      <th></th>\n",
       "      <th>Date</th>\n",
       "      <th>High</th>\n",
       "      <th>Low</th>\n",
       "    </tr>\n",
       "  </thead>\n",
       "  <tbody>\n",
       "    <tr>\n",
       "      <th>390</th>\n",
       "      <td>2016-06-24</td>\n",
       "      <td>34.26</td>\n",
       "      <td>29.87</td>\n",
       "    </tr>\n",
       "  </tbody>\n",
       "</table>\n",
       "</div>"
      ],
      "text/plain": [
       "           Date   High    Low\n",
       "390  2016-06-24  34.26  29.87"
      ]
     },
     "execution_count": 183,
     "metadata": {},
     "output_type": "execute_result"
    }
   ],
   "source": [
    "#Using the pandas DataFrame to check my answers\n",
    "df_spread_max = df[[\"Date\",\"High\",\"Low\"]][(df.High - df.Low) == (df.High - df.Low).max()]\n",
    "df_spread_max"
   ]
  },
  {
   "cell_type": "markdown",
   "metadata": {},
   "source": [
    "## Task 5:\n",
    "What was the largest change between any two days (based on Closing Price)?"
   ]
  },
  {
   "cell_type": "code",
   "execution_count": 222,
   "metadata": {},
   "outputs": [
    {
     "name": "stdout",
     "output_type": "stream",
     "text": [
      "The largest change between consecutive day closing prices in 2017 was $ 7.0 per share\n"
     ]
    }
   ],
   "source": [
    "# For loop solution\n",
    "close_delta_max = float(\"-inf\")\n",
    "close_prev =  json_data[\"dataset_data\"][\"data\"][0][4]\n",
    " \n",
    "for row in json_data[\"dataset_data\"][\"data\"][1:]:\n",
    "    close = row[4]\n",
    "    close_delta = abs(close_prev - close)\n",
    "    close_prev = close\n",
    "    if close_delta > close_delta_max:\n",
    "        close_delta_max = close_delta\n",
    "print ('The largest change between consecutive day closing prices in 2017 was','$', close_delta_max,'per share')"
   ]
  },
  {
   "cell_type": "code",
   "execution_count": 188,
   "metadata": {},
   "outputs": [
    {
     "name": "stdout",
     "output_type": "stream",
     "text": [
      "The largest change between consecutive day closing prices in 2017 was Δ$7.00 per share.\n"
     ]
    }
   ],
   "source": [
    "# List comprehension solution\n",
    "close = [row[4] for row in json_data[\"dataset_data\"][\"data\"]]\n",
    "close_delta_max = max(abs(close_prev - close) for close_prev, close in zip(close, close[1:]))\n",
    " \n",
    "print(\"The largest change between consecutive day closing prices in 2017 was {1}${0:.2f}\" \\\n",
    "      \" per share.\".format(round(close_delta_max, 2), u'\\u0394'))"
   ]
  },
  {
   "cell_type": "code",
   "execution_count": 189,
   "metadata": {},
   "outputs": [
    {
     "name": "stdout",
     "output_type": "stream",
     "text": [
      "The largest change between consecutive day closing prices in 2017 was Δ$7.00 per share and occurred on 2000-06-08.\n"
     ]
    }
   ],
   "source": [
    "# Dictionary comprehension solution for abstracting other significant data\n",
    "close_delta_dict = {}\n",
    "close_prev =  json_data[\"dataset_data\"][\"data\"][0][4]\n",
    "\n",
    "for row in json_data[\"dataset_data\"][\"data\"][1:]:\n",
    "    close = row[4]\n",
    "    close_delta_dict[row[0]] = abs(close_prev - close)\n",
    "    close_prev = close\n",
    "\n",
    "close_delta_max_date, close_delta_max = max(close_delta_dict.items(), key=lambda k:k[1])\n",
    "\n",
    "print(\"The largest change between consecutive day closing prices in 2017 was {1}${0:.2f}\" \\\n",
    "      \" per share and occurred on {2}.\".format(round(close_delta_max, 2), u'\\u0394', \\\n",
    "                                               close_delta_max_date))"
   ]
  },
  {
   "cell_type": "code",
   "execution_count": 190,
   "metadata": {},
   "outputs": [
    {
     "data": {
      "text/html": [
       "<div>\n",
       "<style scoped>\n",
       "    .dataframe tbody tr th:only-of-type {\n",
       "        vertical-align: middle;\n",
       "    }\n",
       "\n",
       "    .dataframe tbody tr th {\n",
       "        vertical-align: top;\n",
       "    }\n",
       "\n",
       "    .dataframe thead th {\n",
       "        text-align: right;\n",
       "    }\n",
       "</style>\n",
       "<table border=\"1\" class=\"dataframe\">\n",
       "  <thead>\n",
       "    <tr style=\"text-align: right;\">\n",
       "      <th></th>\n",
       "      <th>Date</th>\n",
       "      <th>Close</th>\n",
       "      <th>Diff</th>\n",
       "    </tr>\n",
       "  </thead>\n",
       "  <tbody>\n",
       "    <tr>\n",
       "      <th>4538</th>\n",
       "      <td>2000-06-09</td>\n",
       "      <td>45.0</td>\n",
       "      <td>NaN</td>\n",
       "    </tr>\n",
       "    <tr>\n",
       "      <th>4539</th>\n",
       "      <td>2000-06-08</td>\n",
       "      <td>38.0</td>\n",
       "      <td>7.0</td>\n",
       "    </tr>\n",
       "  </tbody>\n",
       "</table>\n",
       "</div>"
      ],
      "text/plain": [
       "            Date  Close  Diff\n",
       "4538  2000-06-09   45.0   NaN\n",
       "4539  2000-06-08   38.0   7.0"
      ]
     },
     "execution_count": 190,
     "metadata": {},
     "output_type": "execute_result"
    }
   ],
   "source": [
    "# Using the pandas DataFrame to check my answers\n",
    "id_list = df.index[df.Close.diff().abs() == df.Close.diff().abs().max()].tolist()\n",
    "id_list.insert(0, id_list[0] - 1)\n",
    "df_close_delta_max = df.loc[id_list,[\"Date\",\"Close\"]]\n",
    "df_close_delta_max[\"Diff\"] = df_close_delta_max.Close.diff().abs()\n",
    "df_close_delta_max"
   ]
  },
  {
   "cell_type": "markdown",
   "metadata": {},
   "source": [
    "## Task 6:\n",
    "What was the average daily trading volume during this year?"
   ]
  },
  {
   "cell_type": "code",
   "execution_count": 221,
   "metadata": {},
   "outputs": [
    {
     "name": "stdout",
     "output_type": "stream",
     "text": [
      "The average daily trading volume for 2017 was 47040.76172649196\n"
     ]
    }
   ],
   "source": [
    "# For loop solution\n",
    "vol_sum = 0\n",
    "vol_count = 0\n",
    " \n",
    "for row in json_data[\"dataset_data\"][\"data\"]:\n",
    "    vol_sum += row[6]\n",
    "    vol_count += 1\n",
    "    \n",
    "vol_avg = vol_sum / vol_count\n",
    "print('The average daily trading volume for 2017 was', vol_avg)"
   ]
  },
  {
   "cell_type": "code",
   "execution_count": 193,
   "metadata": {},
   "outputs": [
    {
     "name": "stdout",
     "output_type": "stream",
     "text": [
      "The average daily traded volume for 2017 was 47,040.8 shares\n"
     ]
    }
   ],
   "source": [
    "# List comprehension solution\n",
    "volume = [row[6] for row in json_data[\"dataset_data\"][\"data\"]]\n",
    "vol_avg = sum(volume) / len(volume)\n",
    "\n",
    "print(\"The average daily traded volume for 2017 was {0:,} shares\".format(round(vol_avg, 1)))"
   ]
  },
  {
   "cell_type": "code",
   "execution_count": 194,
   "metadata": {},
   "outputs": [
    {
     "data": {
      "text/plain": [
       "47040.76172649196"
      ]
     },
     "execution_count": 194,
     "metadata": {},
     "output_type": "execute_result"
    }
   ],
   "source": [
    "# Using the pandas DataFrame to check my answers\n",
    "df_vol_avg = df[\"Traded Volume\"].mean()\n",
    "df_vol_avg"
   ]
  },
  {
   "cell_type": "markdown",
   "metadata": {},
   "source": [
    "## Task 7:\n",
    "What was the median trading volume during this year. (Note: you may need to implement your own function for calculating the median.)"
   ]
  },
  {
   "cell_type": "code",
   "execution_count": 195,
   "metadata": {},
   "outputs": [
    {
     "name": "stdout",
     "output_type": "stream",
     "text": [
      "The median daily traded volume for 2017 was 34,960.0 shares\n"
     ]
    }
   ],
   "source": [
    "# List comprehension solution\n",
    "volume = [row[6] for row in json_data[\"dataset_data\"][\"data\"]]\n",
    "vol_sorted = sorted(volume)\n",
    "\n",
    "if len(volume) % 2 != 0:\n",
    "    vol_median = vol_sorted[len(volume) // 2]\n",
    "else:\n",
    "    vol_median = (vol_sorted[len(volume) // 2 - 1] + vol_sorted[len(volume) // 2]) / 2\n",
    "\n",
    "print(\"The median daily traded volume for 2017 was {0:,} shares\".format(round(vol_median, 1)))"
   ]
  },
  {
   "cell_type": "code",
   "execution_count": 196,
   "metadata": {},
   "outputs": [
    {
     "data": {
      "text/plain": [
       "34960.0"
      ]
     },
     "execution_count": 196,
     "metadata": {},
     "output_type": "execute_result"
    }
   ],
   "source": [
    "# Using the pandas DataFrame to check my answers\n",
    "df_vol_median = df[\"Traded Volume\"].median()\n",
    "df_vol_median"
   ]
  }
 ],
 "metadata": {
  "kernelspec": {
   "display_name": "Python 3",
   "language": "python",
   "name": "python3"
  },
  "language_info": {
   "codemirror_mode": {
    "name": "ipython",
    "version": 3
   },
   "file_extension": ".py",
   "mimetype": "text/x-python",
   "name": "python",
   "nbconvert_exporter": "python",
   "pygments_lexer": "ipython3",
   "version": "3.7.2"
  }
 },
 "nbformat": 4,
 "nbformat_minor": 2
}
