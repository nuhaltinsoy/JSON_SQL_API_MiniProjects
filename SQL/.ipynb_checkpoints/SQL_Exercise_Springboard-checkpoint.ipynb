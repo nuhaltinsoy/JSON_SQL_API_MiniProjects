{
 "cells": [
  {
   "cell_type": "markdown",
   "metadata": {},
   "source": [
    "## SQL Exercise"
   ]
  },
  {
   "cell_type": "markdown",
   "metadata": {},
   "source": [
    "**Welcome to my SQL mini project. For this project, I used Springboard' online SQL platform.**"
   ]
  },
  {
   "cell_type": "markdown",
   "metadata": {},
   "source": [
    "**Question 1:**\n",
    "    \n",
    "Some of the facilities charge a fee to members, but some do not. Please list the names of the facilities that do."
   ]
  },
  {
   "cell_type": "code",
   "execution_count": null,
   "metadata": {},
   "outputs": [],
   "source": [
    "SELECT *  FROM  Facilities \n",
    "\n",
    "WHERE membercost > 0"
   ]
  },
  {
   "cell_type": "markdown",
   "metadata": {},
   "source": [
    "**Question 2:** \n",
    "    \n",
    "How many facilities do not charge a fee to members? "
   ]
  },
  {
   "cell_type": "code",
   "execution_count": null,
   "metadata": {},
   "outputs": [],
   "source": [
    "SELECT COUNT(name) AS zero_membercost\n",
    "\n",
    "FROM Facilities \n",
    "\n",
    "WHERE membercost = 0"
   ]
  },
  {
   "cell_type": "markdown",
   "metadata": {},
   "source": [
    "**Question 3:** \n",
    "    \n",
    "How can you produce a list of facilities that charge a fee to members,\n",
    "where the fee is less than 20% of the facility's monthly maintenance cost?\n",
    "Return the facid, facility name, member cost, and monthly maintenance of the\n",
    "facilities in question."
   ]
  },
  {
   "cell_type": "code",
   "execution_count": null,
   "metadata": {},
   "outputs": [],
   "source": [
    "SELECT facid, name, membercost, monthlymaintenance \n",
    "\n",
    "FROM Facilities\n",
    "\n",
    "WHERE membercost > AND membercost < (0.2*monthlymaintenance)"
   ]
  },
  {
   "cell_type": "markdown",
   "metadata": {},
   "source": [
    "**Question 4:** \n",
    "    \n",
    "How can you retrieve the details of facilities with ID 1 and 5?\n",
    "Write the query without using the OR operator."
   ]
  },
  {
   "cell_type": "code",
   "execution_count": null,
   "metadata": {},
   "outputs": [],
   "source": [
    "SELECT facid FROM Facilities\n",
    "\n",
    "WHERE facid IN (1,5)"
   ]
  },
  {
   "cell_type": "markdown",
   "metadata": {},
   "source": [
    "**Question 5:**\n",
    "    \n",
    "How can you produce a list of facilities, with each labelled as\n",
    "'cheap' or 'expensive', depending on if their monthly maintenance cost is\n",
    "more than $100? Return the name and monthly maintenance of the facilities\n",
    "in question."
   ]
  },
  {
   "cell_type": "code",
   "execution_count": null,
   "metadata": {},
   "outputs": [],
   "source": [
    "SELECT name, monthlymaintenance,\n",
    "\n",
    "CASE \n",
    "    WHEN monthlymaintenance > 100 THEN 'expensive'\n",
    "\n",
    "    ELSE 'cheap' \n",
    "    \n",
    "END AS facility_label\n",
    "\n",
    "FROM Facilities"
   ]
  },
  {
   "cell_type": "markdown",
   "metadata": {},
   "source": [
    "**Question 6:**\n",
    "    \n",
    "You'd like to get the first and last name of the last member(s)\n",
    "who signed up. Do not use the LIMIT clause for your solution."
   ]
  },
  {
   "cell_type": "code",
   "execution_count": null,
   "metadata": {},
   "outputs": [],
   "source": [
    "SELECT firstname, surname, joindate\n",
    "\n",
    "FROM Members\n",
    "\n",
    "WHERE joindate = ( SELECT MAX( joindate ) FROM Members )"
   ]
  },
  {
   "cell_type": "markdown",
   "metadata": {},
   "source": [
    "**Question 7:** \n",
    "    \n",
    "How can you produce a list of all members who have used a tennis court?\n",
    "Include in your output the name of the court, and the name of the member\n",
    "formatted as a single column. Ensure no duplicate data, and order by\n",
    "the member name."
   ]
  },
  {
   "cell_type": "code",
   "execution_count": null,
   "metadata": {},
   "outputs": [],
   "source": [
    "SELECT DISTINCT surname, firstname, Facilities.name\n",
    "\n",
    "FROM Members\n",
    "\n",
    "INNER JOIN Bookings ON Members.memid = Bookings.memid\n",
    "\n",
    "INNER JOIN Facilities ON Bookings.facid = Facilities.facid\n",
    "\n",
    "WHERE Facilities.name LIKE \"%Tennis Court%\"\n",
    "\n",
    "ORDER by surname DESC    "
   ]
  },
  {
   "cell_type": "markdown",
   "metadata": {},
   "source": [
    "**Question 8:** \n",
    "    \n",
    "How can you produce a list of bookings on the day of 2012-09-14 which\n",
    "will cost the member (or guest) more than $30? Remember that guests have\n",
    "different costs to members (the listed costs are per half-hour 'slot'), and\n",
    "the guest user's ID is always 0. Include in your output the name of the\n",
    "facility, the name of the member formatted as a single column, and the cost.\n",
    "Order by descending cost, and do not use any subqueries. "
   ]
  },
  {
   "cell_type": "code",
   "execution_count": null,
   "metadata": {},
   "outputs": [],
   "source": [
    "SELECT CONCAT(firstname,' ',surname) as member_name, Facilities.name AS facility_name, \n",
    "\n",
    "CASE \n",
    "\n",
    "    WHEN Members.memid = 0 \n",
    "    \n",
    "    THEN Bookings.slots*Facilities.guestcost\n",
    "\n",
    "    ELSE Bookings.slots*Facilities.membercost\n",
    "\n",
    "END AS cost\n",
    "\n",
    "FROM Members                \n",
    "\n",
    "INNER JOIN Bookings ON Members.memid = Bookings.memid\n",
    "\n",
    "INNER JOIN Facilities ON Bookings.facid = Facilities.facid\n",
    "\n",
    "WHERE Bookings.starttime >= '2012-09-14 00:00:00' \n",
    "\n",
    "      AND Bookings.starttime < '2012-09-15 00:00:00' \n",
    "\n",
    "      AND ((Members.memid = 0 AND Bookings.slots * Facilities.guestcost >30) OR\n",
    "\n",
    "     (Members.memid != 0 AND Bookings.slots*Facilities.membercost >30))\n",
    "\n",
    "ORDER BY cost DESC"
   ]
  },
  {
   "cell_type": "markdown",
   "metadata": {},
   "source": [
    "**Question 9:**  \n",
    "    \n",
    "This time, produce the same result as in Q8, but using a subquery."
   ]
  },
  {
   "cell_type": "code",
   "execution_count": null,
   "metadata": {},
   "outputs": [],
   "source": [
    "SELECT member_name, facility, cost \n",
    "  \n",
    "    FROM (SELECT CONCAT (firstname, ' ',  surname) AS member_name,\n",
    "\n",
    "                        Facilities.name AS facility,\n",
    "\n",
    "    CASE\n",
    "\n",
    "        WHEN Members.memid = 0 \n",
    "          \n",
    "        THEN  Bookings.slots*Facilities.guestcost\n",
    "\n",
    "        ELSE  Bookings.slots*Facilities.membercost\n",
    "\n",
    "    END AS cost\n",
    "\n",
    "FROM Members\n",
    "\n",
    "     INNER JOIN Bookings ON Members.memid = Bookings.memid\n",
    "\n",
    "     INNER JOIN Facilities ON Bookings.facid = Facilities.facid\n",
    "\n",
    "    WHERE\n",
    "\n",
    "         Bookings.starttime >= '2012-09-14 00:00:00' AND\n",
    "\n",
    "         Bookings.starttime < '2012-09-15 00:00:00'\n",
    "\n",
    "     ) AS bookings\n",
    "\n",
    "WHERE cost > 30\n",
    "\n",
    "ORDER BY cost DESC; "
   ]
  },
  {
   "cell_type": "markdown",
   "metadata": {},
   "source": [
    "**Question 10:** \n",
    "\n",
    "Produce a list of facilities with a total revenue less than 1000.\n",
    "The output of facility name and total revenue, sorted by revenue. Remember\n",
    "that there's a different cost for guests and members!"
   ]
  },
  {
   "cell_type": "code",
   "execution_count": null,
   "metadata": {},
   "outputs": [],
   "source": [
    "SELECT name, revenue FROM (\n",
    "                          \n",
    "    SELECT Facilities.name,\n",
    "   \n",
    "    SUM( CASE WHEN Bookings.memid = 0 THEN Bookings.slots*Facilities.guestcost\n",
    "\n",
    "               ELSE Bookings.slots*Facilities.membercost\n",
    "\n",
    "               END) AS revenue\n",
    "    \n",
    "    FROM Bookings\n",
    "\n",
    "    INNER JOIN Facilities ON Bookings.facid = Facilities.facid\n",
    "\n",
    "    GROUP BY Facilities.name) AS allrvn \n",
    "\n",
    "WHERE revenue < 1000\n",
    "\n",
    "ORDER BY revenue; "
   ]
  },
  {
   "cell_type": "code",
   "execution_count": 1,
   "metadata": {},
   "outputs": [
    {
     "data": {
      "text/plain": [
       "'/Users/amy/00_Springboard/05_Mini_Projects/SQL'"
      ]
     },
     "execution_count": 1,
     "metadata": {},
     "output_type": "execute_result"
    }
   ],
   "source": [
    "pwd"
   ]
  },
  {
   "cell_type": "code",
   "execution_count": null,
   "metadata": {},
   "outputs": [],
   "source": []
  }
 ],
 "metadata": {
  "kernelspec": {
   "display_name": "Python 3",
   "language": "python",
   "name": "python3"
  },
  "language_info": {
   "codemirror_mode": {
    "name": "ipython",
    "version": 3
   },
   "file_extension": ".py",
   "mimetype": "text/x-python",
   "name": "python",
   "nbconvert_exporter": "python",
   "pygments_lexer": "ipython3",
   "version": "3.7.2"
  }
 },
 "nbformat": 4,
 "nbformat_minor": 2
}
